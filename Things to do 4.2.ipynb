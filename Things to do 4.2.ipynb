{
 "cells": [
  {
   "cell_type": "markdown",
   "id": "2de18efc",
   "metadata": {},
   "source": [
    "4.2 Assign True or False to the variables small and green. Write some if/else statements to print which of these matches those choices: cherry, pea, watermelon, pumpkin."
   ]
  },
  {
   "cell_type": "code",
   "execution_count": 15,
   "id": "d618aca8",
   "metadata": {
    "scrolled": true
   },
   "outputs": [
    {
     "name": "stdout",
     "output_type": "stream",
     "text": [
      "It's a cherry.\n"
     ]
    }
   ],
   "source": [
    "small = True\n",
    "green = False\n",
    "\n",
    "if small:\n",
    "    if green:\n",
    "        print(\"It's a pea!\")\n",
    "    else:\n",
    "        print(\"It's a cherry.\")\n",
    "else:\n",
    "    if green:\n",
    "        print(\"It looks like a watermelon.\")\n",
    "    else:\n",
    "        print(\"It's totally a pumpkin!\")\n",
    "                    "
   ]
  },
  {
   "cell_type": "code",
   "execution_count": null,
   "id": "11b93a30",
   "metadata": {},
   "outputs": [],
   "source": []
  }
 ],
 "metadata": {
  "kernelspec": {
   "display_name": "Python 3 (ipykernel)",
   "language": "python",
   "name": "python3"
  },
  "language_info": {
   "codemirror_mode": {
    "name": "ipython",
    "version": 3
   },
   "file_extension": ".py",
   "mimetype": "text/x-python",
   "name": "python",
   "nbconvert_exporter": "python",
   "pygments_lexer": "ipython3",
   "version": "3.9.12"
  }
 },
 "nbformat": 4,
 "nbformat_minor": 5
}
