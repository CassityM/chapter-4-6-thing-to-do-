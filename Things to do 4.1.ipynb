{
 "cells": [
  {
   "cell_type": "markdown",
   "id": "051148d2",
   "metadata": {},
   "source": [
    "4.1 Choose a number between 1 and 10 and assign it to the variable secret. Then, select another number between 1 and 10 and assign it to the variable guess. Next, write the conditional tests (if, else, and elif) to print the string 'too low' if guess is less than secret, 'too high' if greater than secret, and 'just right' if equal to secret."
   ]
  },
  {
   "cell_type": "code",
   "execution_count": 18,
   "id": "7c3787b0",
   "metadata": {},
   "outputs": [
    {
     "name": "stdout",
     "output_type": "stream",
     "text": [
      "too high, guess again.\n"
     ]
    }
   ],
   "source": [
    "secert = 6\n",
    "guess = 8\n",
    "\n",
    "if guess <= 5:\n",
    "        print(\"too low, guess again.\")\n",
    "elif guess >=7:\n",
    "        print(\"too high, guess again.\")\n",
    "else:\n",
    "        print(\"just right!\")"
   ]
  },
  {
   "cell_type": "code",
   "execution_count": null,
   "id": "e82a5265",
   "metadata": {},
   "outputs": [],
   "source": []
  },
  {
   "cell_type": "code",
   "execution_count": null,
   "id": "5ee42c87",
   "metadata": {},
   "outputs": [],
   "source": []
  }
 ],
 "metadata": {
  "kernelspec": {
   "display_name": "Python 3 (ipykernel)",
   "language": "python",
   "name": "python3"
  },
  "language_info": {
   "codemirror_mode": {
    "name": "ipython",
    "version": 3
   },
   "file_extension": ".py",
   "mimetype": "text/x-python",
   "name": "python",
   "nbconvert_exporter": "python",
   "pygments_lexer": "ipython3",
   "version": "3.9.12"
  }
 },
 "nbformat": 4,
 "nbformat_minor": 5
}
